{
 "cells": [
  {
   "cell_type": "markdown",
   "id": "c795fab2",
   "metadata": {},
   "source": [
    "# Drug Classification"
   ]
  },
  {
   "cell_type": "markdown",
   "id": "870eb3af",
   "metadata": {},
   "source": [
    "### Predicting the drug that should be prescribe to the patient."
   ]
  },
  {
   "cell_type": "markdown",
   "id": "3cf31745",
   "metadata": {},
   "source": [
    "## Data Analysis"
   ]
  },
  {
   "cell_type": "code",
   "execution_count": 1,
   "id": "aa21ff4a",
   "metadata": {},
   "outputs": [],
   "source": [
    "import pandas as pd\n",
    "import numpy as np\n",
    "import matplotlib.pyplot as plt\n",
    "import seaborn as sns"
   ]
  },
  {
   "cell_type": "code",
   "execution_count": 2,
   "id": "d9cfc3b3",
   "metadata": {},
   "outputs": [],
   "source": [
    "import warnings\n",
    "warnings.filterwarnings('ignore')"
   ]
  },
  {
   "cell_type": "code",
   "execution_count": 3,
   "id": "5ef9287c",
   "metadata": {},
   "outputs": [],
   "source": [
    "data_frame=pd.read_csv('drug200.csv')"
   ]
  },
  {
   "cell_type": "code",
   "execution_count": 4,
   "id": "784635cd",
   "metadata": {},
   "outputs": [
    {
     "data": {
      "text/html": [
       "<div>\n",
       "<style scoped>\n",
       "    .dataframe tbody tr th:only-of-type {\n",
       "        vertical-align: middle;\n",
       "    }\n",
       "\n",
       "    .dataframe tbody tr th {\n",
       "        vertical-align: top;\n",
       "    }\n",
       "\n",
       "    .dataframe thead th {\n",
       "        text-align: right;\n",
       "    }\n",
       "</style>\n",
       "<table border=\"1\" class=\"dataframe\">\n",
       "  <thead>\n",
       "    <tr style=\"text-align: right;\">\n",
       "      <th></th>\n",
       "      <th>Age</th>\n",
       "      <th>Sex</th>\n",
       "      <th>BP</th>\n",
       "      <th>Cholesterol</th>\n",
       "      <th>Na_to_K</th>\n",
       "      <th>Drug</th>\n",
       "    </tr>\n",
       "  </thead>\n",
       "  <tbody>\n",
       "    <tr>\n",
       "      <th>0</th>\n",
       "      <td>23</td>\n",
       "      <td>F</td>\n",
       "      <td>HIGH</td>\n",
       "      <td>HIGH</td>\n",
       "      <td>25.355</td>\n",
       "      <td>DrugY</td>\n",
       "    </tr>\n",
       "    <tr>\n",
       "      <th>1</th>\n",
       "      <td>47</td>\n",
       "      <td>M</td>\n",
       "      <td>LOW</td>\n",
       "      <td>HIGH</td>\n",
       "      <td>13.093</td>\n",
       "      <td>drugC</td>\n",
       "    </tr>\n",
       "    <tr>\n",
       "      <th>2</th>\n",
       "      <td>47</td>\n",
       "      <td>M</td>\n",
       "      <td>LOW</td>\n",
       "      <td>HIGH</td>\n",
       "      <td>10.114</td>\n",
       "      <td>drugC</td>\n",
       "    </tr>\n",
       "    <tr>\n",
       "      <th>3</th>\n",
       "      <td>28</td>\n",
       "      <td>F</td>\n",
       "      <td>NORMAL</td>\n",
       "      <td>HIGH</td>\n",
       "      <td>7.798</td>\n",
       "      <td>drugX</td>\n",
       "    </tr>\n",
       "    <tr>\n",
       "      <th>4</th>\n",
       "      <td>61</td>\n",
       "      <td>F</td>\n",
       "      <td>LOW</td>\n",
       "      <td>HIGH</td>\n",
       "      <td>18.043</td>\n",
       "      <td>DrugY</td>\n",
       "    </tr>\n",
       "  </tbody>\n",
       "</table>\n",
       "</div>"
      ],
      "text/plain": [
       "   Age Sex      BP Cholesterol  Na_to_K   Drug\n",
       "0   23   F    HIGH        HIGH   25.355  DrugY\n",
       "1   47   M     LOW        HIGH   13.093  drugC\n",
       "2   47   M     LOW        HIGH   10.114  drugC\n",
       "3   28   F  NORMAL        HIGH    7.798  drugX\n",
       "4   61   F     LOW        HIGH   18.043  DrugY"
      ]
     },
     "execution_count": 4,
     "metadata": {},
     "output_type": "execute_result"
    }
   ],
   "source": [
    "data_frame.head()"
   ]
  },
  {
   "cell_type": "code",
   "execution_count": 5,
   "id": "8a4221da",
   "metadata": {},
   "outputs": [
    {
     "data": {
      "text/plain": [
       "<AxesSubplot:xlabel='Drug', ylabel='count'>"
      ]
     },
     "execution_count": 5,
     "metadata": {},
     "output_type": "execute_result"
    },
    {
     "data": {
      "image/png": "[encoded data removed]",
      "text/plain": [
       "<Figure size 432x288 with 1 Axes>"
      ]
     },
     "metadata": {
      "needs_background": "light"
     },
     "output_type": "display_data"
    }
   ],
   "source": [
    "## Visualizing output feature.\n",
    "sns.countplot(data_frame['Drug'])"
   ]
  },
  {
   "cell_type": "markdown",
   "id": "6383384b",
   "metadata": {},
   "source": [
    "'DrugY' has the highest count following the 'drugX' which has the second highest count. "
   ]
  },
  {
   "cell_type": "code",
   "execution_count": 6,
   "id": "6c4faee7",
   "metadata": {
    "scrolled": false
   },
   "outputs": [
    {
     "data": {
      "image/png": "[encoded data removed]",
      "text/plain": [
       "<Figure size 432x288 with 1 Axes>"
      ]
     },
     "metadata": {
      "needs_background": "light"
     },
     "output_type": "display_data"
    },
    {
     "data": {
      "image/png": "[encoded data removed]",
      "text/plain": [
       "<Figure size 432x288 with 1 Axes>"
      ]
     },
     "metadata": {
      "needs_background": "light"
     },
     "output_type": "display_data"
    }
   ],
   "source": [
    "## Visualizing the relationship between the 'Sex' feature and output feature.\n",
    "plt.title('Countplot of \"Sex\" feature')\n",
    "sns.countplot(data_frame['Sex']);\n",
    "plt.show()\n",
    "plt.title('Relationship between Sex and output feature')\n",
    "sns.countplot(data_frame['Sex'],hue=data_frame['Drug']);"
   ]
  },
  {
   "cell_type": "markdown",
   "id": "9a16225b",
   "metadata": {},
   "source": [
    "There are more male who got prescribed to Drug than female.\n",
    "\n",
    "When it comes to the relation between Sex and Drug feature. Firstly, DrugY has highest count in both the categories but female has more count than male. Secondly, DrugX is the second highest count of Drug which has an equal share in each for both. "
   ]
  },
  {
   "cell_type": "code",
   "execution_count": 7,
   "id": "8c04853e",
   "metadata": {},
   "outputs": [
    {
     "data": {
      "text/plain": [
       "<AxesSubplot:xlabel='BP', ylabel='count'>"
      ]
     },
     "execution_count": 7,
     "metadata": {},
     "output_type": "execute_result"
    },
    {
     "data": {
      "image/png": "[encoded data removed]",
      "text/plain": [
       "<Figure size 432x288 with 1 Axes>"
      ]
     },
     "metadata": {
      "needs_background": "light"
     },
     "output_type": "display_data"
    }
   ],
   "source": [
    "## Visualizing BP feature and output feature.\n",
    "sns.countplot(data_frame['BP'],hue=data_frame['Drug'])"
   ]
  },
  {
   "cell_type": "markdown",
   "id": "9b263517",
   "metadata": {},
   "source": [
    "If a patient has HIGH BP, then only DrugY, DrugA and DrugB are precribed where as the patient with Low BP is prescribed with DrugY, drugC and drugX. Finally, the person who has a NORMAL BP is prescribed with DrugY and drugX. To conclude, DrugY is prescribed to every patient and drugX is prescribed to LOW, NORMAL patients."
   ]
  },
  {
   "cell_type": "code",
   "execution_count": 8,
   "id": "71d679e7",
   "metadata": {},
   "outputs": [
    {
     "data": {
      "text/plain": [
       "<AxesSubplot:xlabel='Cholesterol', ylabel='count'>"
      ]
     },
     "execution_count": 8,
     "metadata": {},
     "output_type": "execute_result"
    },
    {
     "data": {
      "image/png": "[encoded data removed]",
      "text/plain": [
       "<Figure size 432x288 with 1 Axes>"
      ]
     },
     "metadata": {
      "needs_background": "light"
     },
     "output_type": "display_data"
    }
   ],
   "source": [
    "## Visualizing the Cholesterol feature and output feature.\n",
    "sns.countplot(data_frame['Cholesterol'],hue=data_frame['Drug'])"
   ]
  },
  {
   "cell_type": "markdown",
   "id": "446c3e41",
   "metadata": {},
   "source": [
    "Patients who are rich in cholestrol are likely to take every kinda drug whereas the patients who are with stable cholesetrol are used every kind of drug except drugC."
   ]
  },
  {
   "cell_type": "code",
   "execution_count": 9,
   "id": "eac21466",
   "metadata": {},
   "outputs": [
    {
     "data": {
      "image/png": "[encoded data removed]",
      "text/plain": [
       "<Figure size 432x288 with 1 Axes>"
      ]
     },
     "metadata": {
      "needs_background": "light"
     },
     "output_type": "display_data"
    }
   ],
   "source": [
    "## Visualing the Na_to_K feature and output feature.\n",
    "sns.scatterplot(data_frame['Na_to_K'],data_frame['Drug'])\n",
    "plt.show()"
   ]
  },
  {
   "cell_type": "markdown",
   "id": "6ba6e775",
   "metadata": {},
   "source": [
    "DrugY is given to the person who has 15 to 35+ Na_to_K and rest of the drug classifications are between 5+ to less than or equal to 15."
   ]
  },
  {
   "cell_type": "code",
   "execution_count": 10,
   "id": "00751ca6",
   "metadata": {},
   "outputs": [
    {
     "data": {
      "text/plain": [
       "<AxesSubplot:xlabel='Age', ylabel='Drug'>"
      ]
     },
     "execution_count": 10,
     "metadata": {},
     "output_type": "execute_result"
    },
    {
     "data": {
      "image/png": "[encoded data removed]",
      "text/plain": [
       "<Figure size 1440x720 with 1 Axes>"
      ]
     },
     "metadata": {
      "needs_background": "light"
     },
     "output_type": "display_data"
    }
   ],
   "source": [
    "## Visualzing the Age feature and output feature.\n",
    "plt.figure(figsize=(20,10))\n",
    "sns.scatterplot(data_frame['Age'],data_frame['Drug'])"
   ]
  },
  {
   "cell_type": "code",
   "execution_count": 11,
   "id": "d8b36bc3",
   "metadata": {},
   "outputs": [
    {
     "data": {
      "text/plain": [
       "Age  Drug \n",
       "47   drugC    4\n",
       "28   DrugY    4\n",
       "58   DrugY    4\n",
       "60   drugB    3\n",
       "39   DrugY    3\n",
       "             ..\n",
       "38   drugA    1\n",
       "37   drugA    1\n",
       "36   drugX    1\n",
       "     drugA    1\n",
       "74   drugX    1\n",
       "Length: 135, dtype: int64"
      ]
     },
     "execution_count": 11,
     "metadata": {},
     "output_type": "execute_result"
    }
   ],
   "source": [
    "data_frame[['Age','Drug']].value_counts()"
   ]
  },
  {
   "cell_type": "code",
   "execution_count": 12,
   "id": "68854038",
   "metadata": {},
   "outputs": [],
   "source": [
    "drugY_age=[]\n",
    "drugC_age=[]\n",
    "drugX_age=[]\n",
    "drugA_age=[]\n",
    "drugB_age=[]\n",
    "for age,drug in zip(data_frame['Age'],data_frame['Drug']):\n",
    "    if drug=='DrugY':\n",
    "        drugY_age.append(age)\n",
    "    if drug=='drugC':\n",
    "        drugC_age.append(age)\n",
    "    if drug=='drugX':\n",
    "        drugX_age.append(age)\n",
    "    if drug=='drugA':\n",
    "        drugA_age.append(age)\n",
    "    if drug=='drugB':\n",
    "        drugB_age.append(age)"
   ]
  },
  {
   "cell_type": "code",
   "execution_count": 13,
   "id": "fba75782",
   "metadata": {},
   "outputs": [
    {
     "name": "stdout",
     "output_type": "stream",
     "text": [
      "drugY_ages:  [15 16 18 19 20 21 22 23 24 25 26 28 29 31 32 33 34 36 37 38 39 40 41 42\n",
      " 43 45 46 47 48 49 50 51 52 53 54 56 57 58 60 61 62 63 64 65 66 67 68 69\n",
      " 70 72 73 74]\n",
      "Length of the count(drugY_age):  91\n",
      "\n",
      "drugC_ages:  [16 22 23 26 28 32 41 47 49 56 59 68 72]\n",
      "Length of the count(drugC_age):  16\n",
      "\n",
      "drugX_ages:  [15 17 18 20 22 23 24 28 30 32 34 35 36 37 39 40 43 45 46 47 49 50 51 52\n",
      " 53 55 56 57 59 60 61 64 65 66 67 69 72 74]\n",
      "Length of the count(drugX_age):  54\n",
      "\n",
      "drugA_ages:  [19 20 23 24 26 29 31 32 35 36 37 38 39 42 43 45 47 48 49 50]\n",
      "Length of the count(drugA_age):  23\n",
      "\n",
      "drugB_ages:  [51 53 55 57 58 59 60 65 68 70 72 74]\n",
      "Length of the count(drugB_age):  16\n"
     ]
    }
   ],
   "source": [
    "print('drugY_ages: ',np.unique(drugY_age))\n",
    "print('Length of the count(drugY_age): ',len(drugY_age))\n",
    "print('')\n",
    "print('drugC_ages: ',np.unique(drugC_age))\n",
    "print('Length of the count(drugC_age): ',len(drugC_age))\n",
    "print('')\n",
    "print('drugX_ages: ',np.unique(drugX_age))\n",
    "print('Length of the count(drugX_age): ',len(drugX_age))\n",
    "print('')\n",
    "print('drugA_ages: ',np.unique(drugA_age))\n",
    "print('Length of the count(drugA_age): ',len(drugA_age))\n",
    "print('')\n",
    "print('drugB_ages: ',np.unique(drugB_age))\n",
    "print('Length of the count(drugB_age): ',len(drugB_age))"
   ]
  },
  {
   "cell_type": "markdown",
   "id": "0096f0cc",
   "metadata": {},
   "source": [
    "- drugY is prescribed to most of the ages. \n",
    "- drugC is prescribed to few number of ages.\n",
    "- drugX is prescribed to half the number of ages of drugY.\n",
    "- dropA is prescribed to little number of ages.\n",
    "- dropB is prescribed to senior citizes."
   ]
  },
  {
   "cell_type": "code",
   "execution_count": 14,
   "id": "06a39d86",
   "metadata": {
    "scrolled": true
   },
   "outputs": [
    {
     "data": {
      "text/plain": [
       "<AxesSubplot:xlabel='Na_to_K'>"
      ]
     },
     "execution_count": 14,
     "metadata": {},
     "output_type": "execute_result"
    },
    {
     "data": {
      "image/png": "[encoded data removed]",
      "text/plain": [
       "<Figure size 432x288 with 1 Axes>"
      ]
     },
     "metadata": {
      "needs_background": "light"
     },
     "output_type": "display_data"
    }
   ],
   "source": [
    "## Finding the outliers in Na_to_K feature.\n",
    "sns.boxplot(data_frame['Na_to_K'])"
   ]
  },
  {
   "cell_type": "markdown",
   "id": "1637b6aa",
   "metadata": {},
   "source": [
    "Values greater than 30 are found as outliers."
   ]
  },
  {
   "cell_type": "code",
   "execution_count": 17,
   "id": "8450a6d3",
   "metadata": {},
   "outputs": [
    {
     "data": {
      "image/png": "[encoded data removed]",
      "text/plain": [
       "<Figure size 432x288 with 1 Axes>"
      ]
     },
     "metadata": {
      "needs_background": "light"
     },
     "output_type": "display_data"
    }
   ],
   "source": [
    "sns.distplot(data_frame['Na_to_K'],bins=40);"
   ]
  },
  {
   "cell_type": "markdown",
   "id": "d4aad47c",
   "metadata": {},
   "source": [
    "The values are slightly right skewed."
   ]
  },
  {
   "cell_type": "code",
   "execution_count": 18,
   "id": "8f2ad6ac",
   "metadata": {},
   "outputs": [],
   "source": [
    "data=data_frame.copy()\n",
    "#coverting the values to log values.\n",
    "if 0 not in data_frame['Na_to_K'].unique():\n",
    "    data['Na_to_K']=np.log(data['Na_to_K'])"
   ]
  },
  {
   "cell_type": "code",
   "execution_count": 21,
   "id": "f103c060",
   "metadata": {},
   "outputs": [
    {
     "data": {
      "image/png": "[encoded data removed]",
      "text/plain": [
       "<Figure size 432x288 with 1 Axes>"
      ]
     },
     "metadata": {
      "needs_background": "light"
     },
     "output_type": "display_data"
    }
   ],
   "source": [
    "sns.distplot(data['Na_to_K'],bins=40);"
   ]
  },
  {
   "cell_type": "markdown",
   "id": "7cc08922",
   "metadata": {},
   "source": [
    "Now, it is distributed some what properly."
   ]
  },
  {
   "cell_type": "markdown",
   "id": "f39ec15f",
   "metadata": {},
   "source": [
    "#### To be done:\n",
    "- Change the label 'DrugY' in Drug feature to 'drugY'\n",
    "- Covert the values in 'Na_to_K' feature to log values."
   ]
  }
 ],
 "metadata": {
  "kernelspec": {
   "display_name": "Python 3 (ipykernel)",
   "language": "python",
   "name": "python3"
  },
  "language_info": {
   "codemirror_mode": {
    "name": "ipython",
    "version": 3
   },
   "file_extension": ".py",
   "mimetype": "text/x-python",
   "name": "python",
   "nbconvert_exporter": "python",
   "pygments_lexer": "ipython3",
   "version": "3.9.6"
  }
 },
 "nbformat": 4,
 "nbformat_minor": 5
}
